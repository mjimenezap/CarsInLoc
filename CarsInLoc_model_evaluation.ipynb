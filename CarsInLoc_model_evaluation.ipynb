{
 "cells": [
  {
   "cell_type": "code",
   "execution_count": null,
   "metadata": {},
   "outputs": [],
   "source": [
    "# LIBRARIES\n",
    "\n",
    "import os \n",
    "dirpath = os.getcwd()\n",
    "\n",
    "import pandas as pd\n",
    "import plotly.graph_objects as go\n",
    "import numpy as np\n",
    "from datetime import datetime\n",
    "from scipy import signal"
   ]
  },
  {
   "cell_type": "code",
   "execution_count": null,
   "metadata": {},
   "outputs": [],
   "source": [
    "# MACHINE LEARNING\n",
    "\n",
    "# Load model and test dataframe \n",
    "from pyspark.ml.pipeline import PipelineModel\n",
    "model_ml = PipelineModel.load(dirpath + \"/ML_model\")\n",
    "\n",
    "ml_test_df = spark.read.load(\"ml_test_df.parquet\")\n",
    "\n",
    "# Calculate predictions\n",
    "prediction = model_ml.transform(ml_test_df)\n",
    "\n",
    "prediction.show()"
   ]
  },
  {
   "cell_type": "code",
   "execution_count": null,
   "metadata": {},
   "outputs": [],
   "source": [
    "# Evaluation of the machine learning algorithm \n",
    "\n",
    "from pyspark.ml.evaluation import RegressionEvaluator\n",
    "\n",
    "# Select (prediction, true label) and compute test error\n",
    "evaluator = RegressionEvaluator(\n",
    "    labelCol=\"total_cars_int\", predictionCol=\"prediction\", metricName=\"rmse\")\n",
    "rmse = evaluator.evaluate(prediction)\n",
    "print(\"Root Mean Squared Error (RMSE) on test data = %g\" % rmse)"
   ]
  },
  {
   "cell_type": "code",
   "execution_count": null,
   "metadata": {},
   "outputs": [],
   "source": [
    "treeModel = model_ml.stages[1]\n",
    "# summary only\n",
    "print(treeModel)"
   ]
  },
  {
   "cell_type": "code",
   "execution_count": null,
   "metadata": {},
   "outputs": [],
   "source": [
    "lr_evaluator = RegressionEvaluator(predictionCol=\"prediction\", labelCol=\"total_cars_int\",metricName=\"r2\")\n",
    "print(\"R Squared (R2) on test data = %g\" % lr_evaluator.evaluate(prediction))"
   ]
  },
  {
   "cell_type": "code",
   "execution_count": null,
   "metadata": {},
   "outputs": [],
   "source": [
    "prediction_pandas = prediction.toPandas()\n",
    "prediction_pandas[\"timestamp\"]=pd.to_datetime(prediction_pandas[['year', 'month', 'day', 'hour', 'minute']]).sort_values()\n",
    "prediction_pandas = prediction_pandas.sort_values(by='timestamp',ascending=True)\n",
    "prediction_pandas = prediction_pandas.reset_index(drop=True)"
   ]
  },
  {
   "cell_type": "code",
   "execution_count": null,
   "metadata": {},
   "outputs": [],
   "source": [
    "fig = go.Figure()\n",
    "\n",
    "fig.add_trace(go.Scatter(y=prediction_pandas.total_cars_int,\n",
    "                    mode='lines',\n",
    "                    name='Test '))\n",
    "\n",
    "fig.add_trace(go.Scatter(y=prediction_pandas.prediction,\n",
    "                    mode='lines',\n",
    "                    name='Prediction '))\n",
    "fig.show()"
   ]
  },
  {
   "cell_type": "code",
   "execution_count": null,
   "metadata": {},
   "outputs": [],
   "source": [
    "# As it can be seen, the prediction show continuous values when it should be discrete (cars are integers)\n",
    "# To improve it, I am going to do a little bit of signal processing: filtering, scaling and applying an offset\n",
    "\n",
    "fs = 1000  # Sampling frequency\n",
    "\n",
    "fc = 10  # Cut-off frequency of the filter\n",
    "w = fc / (fs / 2) # Normalize the frequency\n",
    "b, a = signal.butter(5, w, 'low')\n",
    "output = signal.filtfilt(b, a, prediction_pandas.prediction)\n",
    "\n",
    "output_processed = []\n",
    "\n",
    "offset = 0.15\n",
    "size_factor = 1.75\n",
    "\n",
    "for item in output: \n",
    "    item_processed = round(size_factor*(item-offset))\n",
    "    output_processed.append(item_processed)\n",
    "    \n",
    "prediction_pandas[\"filtered_prediction\"] = output\n",
    "prediction_pandas[\"filtered_prediction_processed\"] = output_processed\n",
    "\n",
    "prediction_pandas[\"timestamp\"]=pd.to_datetime(prediction_pandas[['year', 'month', 'day', 'hour', 'minute']]).sort_values()\n",
    "prediction_pandas = prediction_pandas.sort_values(by='timestamp',ascending=True)\n",
    "prediction_pandas = prediction_pandas.reset_index(drop=True)"
   ]
  },
  {
   "cell_type": "code",
   "execution_count": null,
   "metadata": {},
   "outputs": [],
   "source": [
    "fig = go.Figure()\n",
    "\n",
    "fig.add_trace(go.Scatter(y=prediction_pandas.total_cars_int,\n",
    "                    mode='lines',\n",
    "                    name='Test'))\n",
    "fig.add_trace(go.Scatter(y = prediction_pandas.filtered_prediction_processed,\n",
    "                    mode='lines',\n",
    "                    name='Prediction',\n",
    "                    line=dict(color='green')))\n",
    "\n",
    "fig.update_layout(title='Machine learning algorithm evaluation',\n",
    "                   xaxis_title='Timestamp',\n",
    "                   yaxis_title='Number of cars')\n",
    "\n",
    "fig.show()"
   ]
  },
  {
   "cell_type": "code",
   "execution_count": null,
   "metadata": {},
   "outputs": [],
   "source": [
    "# Measurements for evaluation in the Machine Learning algortihm\n",
    "count_accurate_result_ml = 0\n",
    "for i in range(len(prediction_pandas)):\n",
    "    if prediction_pandas.iloc[i].total_cars_int == prediction_pandas.iloc[i].filtered_prediction_processed: \n",
    "        count_accurate_result_ml = count_accurate_result_ml + 1\n",
    "\n",
    "total_accuracy_ml = count_accurate_result_ml/len(prediction_pandas)\n",
    "\n",
    "print(\"The accuracy in the predictions is: \" + str(total_accuracy_ml))\n",
    "\n",
    "correlation_ml = prediction_pandas['total_cars_int'].corr(prediction_pandas['filtered_prediction_processed'])\n",
    "\n",
    "print(\"The correlation between the test and the predictions is: \"+str(correlation_ml))\n"
   ]
  },
  {
   "cell_type": "code",
   "execution_count": null,
   "metadata": {},
   "outputs": [],
   "source": [
    "# DEEP LEARNING ALGORITHM\n",
    "\n",
    "from keras.models import model_from_json\n",
    "from numpy import loadtxt\n",
    "\n",
    "# load json and create model\n",
    "json_file = open('DL_model.json', 'r')\n",
    "loaded_model_json = json_file.read()\n",
    "json_file.close()\n",
    "DL_model = model_from_json(loaded_model_json)\n",
    "# load weights into new model\n",
    "DL_model.load_weights(\"DL_model_weights.h5\")\n",
    "print(\"Loaded model from disk\")\n",
    "\n",
    "DL_model.compile(optimizer = 'adam', loss = 'binary_crossentropy', metrics = ['accuracy'])\n"
   ]
  },
  {
   "cell_type": "code",
   "execution_count": null,
   "metadata": {},
   "outputs": [],
   "source": [
    "# Data for the calculation of the predictions\n",
    "X_test_sc = loadtxt('X_test_sc.csv', delimiter=',')\n",
    "X_test = loadtxt('X_test.csv', delimiter=',')\n",
    "y_test = loadtxt('y_test.csv', delimiter=',')\n",
    "\n",
    "# Predicting the Test set results\n",
    "y_pred = DL_model.predict(X_test_sc)\n",
    "\n",
    "# Plotting predictions\n",
    "df_results = pd.DataFrame(y_test, columns = ['test'])  \n",
    "df_results[\"prediction\"] = y_pred\n",
    "\n",
    "\n",
    "output_processed = []\n",
    "scale_factor = 1.6\n",
    "\n",
    "for item in y_pred: \n",
    "    #print(item)\n",
    "    item_processed = np.round(scale_factor*item)\n",
    "    output_processed.append(int(item_processed))\n",
    "\n",
    "\n",
    "df_results[\"prediction_processed\"] = output_processed \n",
    "\n",
    "df_test = pd.DataFrame(X_test, columns = ['season0','season1','minute', 'hour','day','month','year']).astype(int)\n",
    "df_test = df_test.drop(columns = [\"season0\",\"season1\"])\n",
    "\n",
    "df_test_expanded = df_test.join(df_results)\n",
    "\n",
    "list_timestamps = []\n",
    "\n",
    "for i in range(len(df_test_expanded)):\n",
    "    timestamp = pd.Timestamp(year=df_test_expanded[\"year\"][i], month = df_test_expanded[\"month\"][i], day =df_test_expanded[\"day\"][i], hour = df_test_expanded[\"hour\"][i], minute = df_test_expanded[\"minute\"][i])\n",
    "    list_timestamps.append(timestamp)\n",
    "    \n",
    "df_test_expanded[\"timestamp\"] = list_timestamps\n",
    "\n",
    "\n",
    "\n",
    "df_test_expanded = df_test_expanded.sort_values(by='timestamp',ascending=True)\n",
    "df_test_expanded = df_test_expanded.reset_index(drop=True)\n"
   ]
  },
  {
   "cell_type": "code",
   "execution_count": null,
   "metadata": {},
   "outputs": [],
   "source": [
    "fig = go.Figure()\n",
    "\n",
    "fig.add_trace(go.Scatter(y=df_test_expanded.test,\n",
    "                    mode='lines',\n",
    "                    name='Test'))\n",
    "fig.add_trace(go.Scatter(y = df_test_expanded.prediction,\n",
    "                    mode='lines',\n",
    "                    name='Prediction'))\n",
    "\n",
    "fig.show()"
   ]
  },
  {
   "cell_type": "code",
   "execution_count": null,
   "metadata": {},
   "outputs": [],
   "source": [
    "fig = go.Figure()\n",
    "\n",
    "fig.add_trace(go.Scatter(y=df_test_expanded.test,\n",
    "                    mode='lines',\n",
    "                    name='Test'))\n",
    "fig.add_trace(go.Scatter(y = df_test_expanded.prediction_processed,\n",
    "                    mode='lines',\n",
    "                    name='Prediction',\n",
    "                    line=dict(color='orange')))\n",
    "\n",
    "fig.update_layout(title='Deep learning algorithm evaluation',\n",
    "                   xaxis_title='Timestamp',\n",
    "                   yaxis_title='Number of cars')\n",
    "\n",
    "\n",
    "fig.show()"
   ]
  },
  {
   "cell_type": "code",
   "execution_count": null,
   "metadata": {},
   "outputs": [],
   "source": [
    "# Measurements for evaluation in the Deep Learning algortihm\n",
    "count_accurate_result_dl = 0\n",
    "for i in range(len(df_test_expanded)):\n",
    "    if df_test_expanded.iloc[i].test == df_test_expanded.iloc[i].prediction_processed: \n",
    "        count_accurate_result_dl = count_accurate_result_dl + 1\n",
    "\n",
    "total_accuracy_dl = count_accurate_result_ml/len(df_test_expanded)\n",
    "\n",
    "print(\"The accuracy in the predictions is: \" + str(total_accuracy_dl))\n",
    "\n",
    "correlation_dl = df_test_expanded['test'].corr(df_test_expanded['prediction_processed'])\n",
    "\n",
    "print(\"The correlation between the test and the predictions is: \"+str(correlation_dl))"
   ]
  }
 ],
 "metadata": {
  "kernelspec": {
   "display_name": "Python 3",
   "language": "python",
   "name": "python3"
  },
  "language_info": {
   "codemirror_mode": {
    "name": "ipython",
    "version": 3
   },
   "file_extension": ".py",
   "mimetype": "text/x-python",
   "name": "python",
   "nbconvert_exporter": "python",
   "pygments_lexer": "ipython3",
   "version": "3.7.3"
  }
 },
 "nbformat": 4,
 "nbformat_minor": 2
}
